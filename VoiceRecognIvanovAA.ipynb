{
 "cells": [
  {
   "cell_type": "code",
   "execution_count": 1,
   "metadata": {},
   "outputs": [
    {
     "name": "stdout",
     "output_type": "stream",
     "text": [
      "Речь успешно распознана и сохранена в файле: output_text.txt\n"
     ]
    }
   ],
   "source": [
    "# Импортировать необходимые библиотеки\n",
    "import speech_recognition as sr\n",
    "\n",
    "recognizer = sr.Recognizer()\n",
    "\n",
    "# Функция для записи голосовых данных, распознавания речи и сохранения в файл .txt\n",
    "def convert_speech_to_text(audio_file_path, output_text_file):\n",
    "    try:\n",
    "        with sr.AudioFile(audio_file_path) as source:\n",
    "            # Произвести предварительную обработку аудио (например, удаление шума)\n",
    "            recognizer.adjust_for_ambient_noise(source)\n",
    "            \n",
    "            # Записать аудио с микрофона\n",
    "            audio = recognizer.record(source)\n",
    "            \n",
    "            # Распознать речь\n",
    "            text = recognizer.recognize_google(audio, language=\"ru-RU\")\n",
    "            \n",
    "            # Сохранить текстовые данные в файле .txt\n",
    "            with open(output_text_file, \"w\", encoding=\"utf-8\") as text_file:\n",
    "                text_file.write(text)\n",
    "                \n",
    "            return \"Речь успешно распознана и сохранена в файле: \" + output_text_file\n",
    "    except sr.UnknownValueError:\n",
    "        return \"Не удалось распознать речь\"\n",
    "    except sr.RequestError as e:\n",
    "        return \"Произошла ошибка при запросе к сервису распознавания: {0}\".format(e)\n",
    "\n",
    "# Пример использования функции\n",
    "audio_file_path = \"hny.wav\"  # Путь к аудиофайлу с речью\n",
    "output_text_file = \"output_text.txt\"  # Путь к файлу, в который будет сохранен текст\n",
    "\n",
    "result_message = convert_speech_to_text(audio_file_path, output_text_file)\n",
    "print(result_message)"
   ]
  }
 ],
 "metadata": {
  "kernelspec": {
   "display_name": "base",
   "language": "python",
   "name": "python3"
  },
  "language_info": {
   "codemirror_mode": {
    "name": "ipython",
    "version": 3
   },
   "file_extension": ".py",
   "mimetype": "text/x-python",
   "name": "python",
   "nbconvert_exporter": "python",
   "pygments_lexer": "ipython3",
   "version": "3.9.17"
  },
  "orig_nbformat": 4
 },
 "nbformat": 4,
 "nbformat_minor": 2
}
